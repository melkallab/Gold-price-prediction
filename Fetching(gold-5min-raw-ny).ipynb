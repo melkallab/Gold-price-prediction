{
 "cells": [
  {
   "cell_type": "code",
   "execution_count": 1,
   "id": "6b98fbe4-74fa-4285-88d4-33a351a662e5",
   "metadata": {},
   "outputs": [
    {
     "name": "stdout",
     "output_type": "stream",
     "text": [
      "MT5 initialized successfully.\n",
      "Data received: 99000 bars\n",
      "             time     open     high      low    close  tick_volume  spread  \\\n",
      "0      1704720600  2022.60  2023.32  2021.11  2021.24         2085      16   \n",
      "1      1704720900  2021.34  2021.40  2020.30  2020.68         1751      16   \n",
      "2      1704721200  2020.68  2020.96  2019.58  2020.40         1791      16   \n",
      "3      1704721500  2020.43  2020.70  2019.51  2020.29         1658      16   \n",
      "4      1704721800  2020.29  2021.36  2020.12  2020.83         2104      16   \n",
      "...           ...      ...      ...      ...      ...          ...     ...   \n",
      "98995  1748631600  3288.59  3290.95  3288.48  3290.03          372      17   \n",
      "98996  1748631900  3289.97  3290.78  3288.02  3288.32          360      17   \n",
      "98997  1748632200  3288.31  3290.29  3287.72  3289.12          357      17   \n",
      "98998  1748632500  3289.01  3290.47  3288.78  3289.65          341      17   \n",
      "98999  1748632800  3289.67  3290.72  3289.30  3289.76          297      17   \n",
      "\n",
      "       real_volume  \n",
      "0                0  \n",
      "1                0  \n",
      "2                0  \n",
      "3                0  \n",
      "4                0  \n",
      "...            ...  \n",
      "98995            0  \n",
      "98996            0  \n",
      "98997            0  \n",
      "98998            0  \n",
      "98999            0  \n",
      "\n",
      "[99000 rows x 8 columns]\n"
     ]
    }
   ],
   "source": [
    "import MetaTrader5 as mt5\n",
    "import pandas as pd\n",
    "from datetime import datetime, timedelta\n",
    "import pytz\n",
    "\n",
    "if not mt5.initialize():\n",
    "    print(\"MT5 initialization failed:\", mt5.last_error())\n",
    "else:\n",
    "    print(\"MT5 initialized successfully.\")\n",
    "\n",
    "\n",
    "rates = mt5.copy_rates_from_pos(\n",
    "   \"XAUUSD\",\n",
    "   mt5.TIMEFRAME_M5,\n",
    "   0,\n",
    "   99000\n",
    "   )\n",
    "\n",
    "\n",
    "mt5.shutdown()\n",
    "\n",
    "if rates is None or len(rates) == 0:\n",
    "    print(\"No data received. Check symbol name, broker connection, or market availability.\")\n",
    "else:\n",
    "    print(\"Data received:\", len(rates), \"bars\")\n",
    "\n",
    "    df = pd.DataFrame(rates, columns=[\n",
    "        'time', 'open', 'high', 'low', 'close', 'tick_volume', 'spread', 'real_volume'\n",
    "    ])\n",
    "\n",
    "    print(df)"
   ]
  },
  {
   "cell_type": "code",
   "execution_count": 2,
   "id": "b8aa536e-a217-4d6e-9b70-b3c841078b5f",
   "metadata": {},
   "outputs": [],
   "source": [
    "df['time'] = pd.to_datetime(df['time'], unit='s')"
   ]
  },
  {
   "cell_type": "code",
   "execution_count": 4,
   "id": "2e6e86a9-93ef-4551-ab35-4af347aede7b",
   "metadata": {},
   "outputs": [],
   "source": [
    "df['time_mt'] = df['time'].dt.tz_localize('Etc/GMT-3')\n",
    "df['time_ny'] = df['time_mt'].dt.tz_convert('America/New_York')"
   ]
  },
  {
   "cell_type": "code",
   "execution_count": 6,
   "id": "cce5eece-2209-44c8-bbcc-55c1d904eded",
   "metadata": {},
   "outputs": [],
   "source": [
    "cols = ['time_mt', 'time_ny'] + [col for col in df.columns if col not in ['time_mt', 'time_ny']]\n",
    "df = df[cols]\n",
    "\n",
    "df['time_mt'] = df['time_mt'].dt.tz_localize(None)\n",
    "df['time_ny'] = df['time_ny'].dt.tz_localize(None)"
   ]
  },
  {
   "cell_type": "code",
   "execution_count": 13,
   "id": "78453b1b-0f8a-4934-b702-599735c93b1d",
   "metadata": {},
   "outputs": [
    {
     "name": "stdout",
     "output_type": "stream",
     "text": [
      "                  time_mt             time_ny     open     high      low  \\\n",
      "0     2024-01-08 13:30:00 2024-01-08 05:30:00  2022.60  2023.32  2021.11   \n",
      "1     2024-01-08 13:35:00 2024-01-08 05:35:00  2021.34  2021.40  2020.30   \n",
      "2     2024-01-08 13:40:00 2024-01-08 05:40:00  2020.68  2020.96  2019.58   \n",
      "3     2024-01-08 13:45:00 2024-01-08 05:45:00  2020.43  2020.70  2019.51   \n",
      "4     2024-01-08 13:50:00 2024-01-08 05:50:00  2020.29  2021.36  2020.12   \n",
      "...                   ...                 ...      ...      ...      ...   \n",
      "98995 2025-05-30 19:00:00 2025-05-30 12:00:00  3288.59  3290.95  3288.48   \n",
      "98996 2025-05-30 19:05:00 2025-05-30 12:05:00  3289.97  3290.78  3288.02   \n",
      "98997 2025-05-30 19:10:00 2025-05-30 12:10:00  3288.31  3290.29  3287.72   \n",
      "98998 2025-05-30 19:15:00 2025-05-30 12:15:00  3289.01  3290.47  3288.78   \n",
      "98999 2025-05-30 19:20:00 2025-05-30 12:20:00  3289.67  3290.72  3289.30   \n",
      "\n",
      "         close  tick_volume  \n",
      "0      2021.24         2085  \n",
      "1      2020.68         1751  \n",
      "2      2020.40         1791  \n",
      "3      2020.29         1658  \n",
      "4      2020.83         2104  \n",
      "...        ...          ...  \n",
      "98995  3290.03          372  \n",
      "98996  3288.32          360  \n",
      "98997  3289.12          357  \n",
      "98998  3289.65          341  \n",
      "98999  3289.76          297  \n",
      "\n",
      "[99000 rows x 7 columns]\n"
     ]
    }
   ],
   "source": [
    "columns_to_drop = ['time', 'spread', 'real_volume']\n",
    "df = df.drop(columns=columns_to_drop)"
   ]
  },
  {
   "cell_type": "code",
   "execution_count": 16,
   "id": "d3292353-e4d4-4247-9a3f-4e8b141b107f",
   "metadata": {},
   "outputs": [
    {
     "name": "stdout",
     "output_type": "stream",
     "text": [
      "                  time_mt             time_ny     open     high      low  \\\n",
      "0     2024-01-08 13:30:00 2024-01-08 05:30:00  2022.60  2023.32  2021.11   \n",
      "1     2024-01-08 13:35:00 2024-01-08 05:35:00  2021.34  2021.40  2020.30   \n",
      "2     2024-01-08 13:40:00 2024-01-08 05:40:00  2020.68  2020.96  2019.58   \n",
      "3     2024-01-08 13:45:00 2024-01-08 05:45:00  2020.43  2020.70  2019.51   \n",
      "4     2024-01-08 13:50:00 2024-01-08 05:50:00  2020.29  2021.36  2020.12   \n",
      "...                   ...                 ...      ...      ...      ...   \n",
      "98995 2025-05-30 19:00:00 2025-05-30 12:00:00  3288.59  3290.95  3288.48   \n",
      "98996 2025-05-30 19:05:00 2025-05-30 12:05:00  3289.97  3290.78  3288.02   \n",
      "98997 2025-05-30 19:10:00 2025-05-30 12:10:00  3288.31  3290.29  3287.72   \n",
      "98998 2025-05-30 19:15:00 2025-05-30 12:15:00  3289.01  3290.47  3288.78   \n",
      "98999 2025-05-30 19:20:00 2025-05-30 12:20:00  3289.67  3290.72  3289.30   \n",
      "\n",
      "         close  tick_volume  \n",
      "0      2021.24         2085  \n",
      "1      2020.68         1751  \n",
      "2      2020.40         1791  \n",
      "3      2020.29         1658  \n",
      "4      2020.83         2104  \n",
      "...        ...          ...  \n",
      "98995  3290.03          372  \n",
      "98996  3288.32          360  \n",
      "98997  3289.12          357  \n",
      "98998  3289.65          341  \n",
      "98999  3289.76          297  \n",
      "\n",
      "[99000 rows x 7 columns]\n"
     ]
    }
   ],
   "source": [
    "print(df)"
   ]
  },
  {
   "cell_type": "code",
   "execution_count": 18,
   "id": "d203ca77-abda-429f-a2fc-5d693920dba8",
   "metadata": {},
   "outputs": [],
   "source": [
    "df.to_csv('gold_5min_raw_ny.csv', index=False)"
   ]
  },
  {
   "cell_type": "code",
   "execution_count": null,
   "id": "a52179cd-0861-4a6d-a29c-4ac9ac70516d",
   "metadata": {},
   "outputs": [],
   "source": []
  }
 ],
 "metadata": {
  "kernelspec": {
   "display_name": "Python 3 (ipykernel)",
   "language": "python",
   "name": "python3"
  },
  "language_info": {
   "codemirror_mode": {
    "name": "ipython",
    "version": 3
   },
   "file_extension": ".py",
   "mimetype": "text/x-python",
   "name": "python",
   "nbconvert_exporter": "python",
   "pygments_lexer": "ipython3",
   "version": "3.9.21"
  }
 },
 "nbformat": 4,
 "nbformat_minor": 5
}
