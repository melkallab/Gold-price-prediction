{
 "cells": [
  {
   "cell_type": "code",
   "execution_count": 3,
   "id": "00f3cfee-34d5-4ef2-97f7-752252b5fd79",
   "metadata": {},
   "outputs": [
    {
     "name": "stdout",
     "output_type": "stream",
     "text": [
      "               time_mt              time_ny     open     high      low  \\\n",
      "0  2024-01-08 13:30:00  2024-01-08 05:30:00  2022.60  2023.32  2021.11   \n",
      "1  2024-01-08 13:35:00  2024-01-08 05:35:00  2021.34  2021.40  2020.30   \n",
      "2  2024-01-08 13:40:00  2024-01-08 05:40:00  2020.68  2020.96  2019.58   \n",
      "3  2024-01-08 13:45:00  2024-01-08 05:45:00  2020.43  2020.70  2019.51   \n",
      "4  2024-01-08 13:50:00  2024-01-08 05:50:00  2020.29  2021.36  2020.12   \n",
      "\n",
      "     close  tick_volume  \n",
      "0  2021.24         2085  \n",
      "1  2020.68         1751  \n",
      "2  2020.40         1791  \n",
      "3  2020.29         1658  \n",
      "4  2020.83         2104  \n",
      "<pandas.core.groupby.generic.DataFrameGroupBy object at 0x0000020AD6C84520>\n"
     ]
    }
   ],
   "source": [
    "# Filtering and grouping Pre market data\n",
    "\n",
    "import pandas as pd\n",
    "df = pd.read_csv('gold_5min_raw_ny.csv')\n",
    "print(df.head())\n",
    "\n",
    "from datetime import time\n",
    "\n",
    "df['time_ny'] = pd.to_datetime(df['time_ny'])\n",
    "df['time_only'] = df['time_ny'].dt.time\n",
    "pre_df = df[(df['time_only'] >= time(0, 0)) & (df['time_only'] < time(9, 30))]\n",
    "\n",
    "pre_df = pre_df.copy() \n",
    "pre_df['date'] = pre_df['time_ny'].dt.date\n",
    "\n",
    "grouped = pre_df.groupby('date')\n",
    "\n",
    "print(grouped)\n",
    "\n",
    "pre_df.to_csv('pre_market_data.csv', index=False)"
   ]
  },
  {
   "cell_type": "code",
   "execution_count": 4,
   "id": "4a478ad5-6880-4f10-b263-6c554ca0cd22",
   "metadata": {},
   "outputs": [
    {
     "name": "stdout",
     "output_type": "stream",
     "text": [
      "                   time_mt             time_ny     open     high      low  \\\n",
      "0      2024-01-08 13:30:00 2024-01-08 05:30:00  2022.60  2023.32  2021.11   \n",
      "1      2024-01-08 13:35:00 2024-01-08 05:35:00  2021.34  2021.40  2020.30   \n",
      "2      2024-01-08 13:40:00 2024-01-08 05:40:00  2020.68  2020.96  2019.58   \n",
      "3      2024-01-08 13:45:00 2024-01-08 05:45:00  2020.43  2020.70  2019.51   \n",
      "4      2024-01-08 13:50:00 2024-01-08 05:50:00  2020.29  2021.36  2020.12   \n",
      "...                    ...                 ...      ...      ...      ...   \n",
      "98960  2025-05-30 16:05:00 2025-05-30 09:05:00  3304.45  3306.45  3302.29   \n",
      "98961  2025-05-30 16:10:00 2025-05-30 09:10:00  3306.49  3308.24  3302.61   \n",
      "98962  2025-05-30 16:15:00 2025-05-30 09:15:00  3302.64  3302.84  3294.37   \n",
      "98963  2025-05-30 16:20:00 2025-05-30 09:20:00  3298.12  3300.30  3296.60   \n",
      "98964  2025-05-30 16:25:00 2025-05-30 09:25:00  3299.39  3299.69  3293.89   \n",
      "\n",
      "         close  tick_volume time_only        date  \n",
      "0      2021.24         2085  05:30:00  2024-01-08  \n",
      "1      2020.68         1751  05:35:00  2024-01-08  \n",
      "2      2020.40         1791  05:40:00  2024-01-08  \n",
      "3      2020.29         1658  05:45:00  2024-01-08  \n",
      "4      2020.83         2104  05:50:00  2024-01-08  \n",
      "...        ...          ...       ...         ...  \n",
      "98960  3306.44          411  09:05:00  2025-05-30  \n",
      "98961  3302.74          458  09:10:00  2025-05-30  \n",
      "98962  3298.24          493  09:15:00  2025-05-30  \n",
      "98963  3298.88          427  09:20:00  2025-05-30  \n",
      "98964  3294.63          421  09:25:00  2025-05-30  \n",
      "\n",
      "[41072 rows x 9 columns]\n"
     ]
    }
   ],
   "source": [
    "print(pre_df)"
   ]
  },
  {
   "cell_type": "code",
   "execution_count": null,
   "id": "d63a4ab1-c68a-4d22-9c71-2e6d0381aa09",
   "metadata": {},
   "outputs": [],
   "source": []
  }
 ],
 "metadata": {
  "kernelspec": {
   "display_name": "Python 3 (ipykernel)",
   "language": "python",
   "name": "python3"
  },
  "language_info": {
   "codemirror_mode": {
    "name": "ipython",
    "version": 3
   },
   "file_extension": ".py",
   "mimetype": "text/x-python",
   "name": "python",
   "nbconvert_exporter": "python",
   "pygments_lexer": "ipython3",
   "version": "3.9.21"
  }
 },
 "nbformat": 4,
 "nbformat_minor": 5
}
