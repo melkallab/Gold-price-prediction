{
 "cells": [
  {
   "cell_type": "code",
   "execution_count": 1,
   "id": "9289f7f7-042e-4ed2-b50e-99e91c024294",
   "metadata": {},
   "outputs": [
    {
     "name": "stdout",
     "output_type": "stream",
     "text": [
      "               time_mt              time_ny     open     high      low  \\\n",
      "0  2024-01-08 13:30:00  2024-01-08 05:30:00  2022.60  2023.32  2021.11   \n",
      "1  2024-01-08 13:35:00  2024-01-08 05:35:00  2021.34  2021.40  2020.30   \n",
      "2  2024-01-08 13:40:00  2024-01-08 05:40:00  2020.68  2020.96  2019.58   \n",
      "3  2024-01-08 13:45:00  2024-01-08 05:45:00  2020.43  2020.70  2019.51   \n",
      "4  2024-01-08 13:50:00  2024-01-08 05:50:00  2020.29  2021.36  2020.12   \n",
      "\n",
      "     close  tick_volume  \n",
      "0  2021.24         2085  \n",
      "1  2020.68         1751  \n",
      "2  2020.40         1791  \n",
      "3  2020.29         1658  \n",
      "4  2020.83         2104  \n"
     ]
    }
   ],
   "source": [
    "import pandas as pd\n",
    "df = pd.read_csv('gold_5min_raw_ny.csv')\n",
    "print(df.head())"
   ]
  },
  {
   "cell_type": "code",
   "execution_count": 2,
   "id": "5ae532ce-7bf8-4802-99bc-988f98e7a0a6",
   "metadata": {},
   "outputs": [],
   "source": [
    "from datetime import time"
   ]
  },
  {
   "cell_type": "code",
   "execution_count": 3,
   "id": "bb23ca2f-04fa-4d0d-a7d0-b9188e193b47",
   "metadata": {},
   "outputs": [],
   "source": [
    "df['time_ny'] = pd.to_datetime(df['time_ny'])\n",
    "df['time_only'] = df['time_ny'].dt.time\n",
    "us_df = df[(df['time_only'] >= time(9, 30)) & (df['time_only'] < time(10, 30))]"
   ]
  },
  {
   "cell_type": "code",
   "execution_count": 4,
   "id": "6e29798e-eca0-4022-aab3-45a7ee800d43",
   "metadata": {},
   "outputs": [],
   "source": [
    "us_df = us_df.copy() \n",
    "us_df['date'] = us_df['time_ny'].dt.date"
   ]
  },
  {
   "cell_type": "code",
   "execution_count": 5,
   "id": "88d5476d-37bd-4b63-acd6-2780f2427c17",
   "metadata": {},
   "outputs": [],
   "source": [
    "grouped = us_df.groupby('date')"
   ]
  },
  {
   "cell_type": "code",
   "execution_count": 6,
   "id": "ba4f48b5-d213-4367-a341-1f1febe1dfa0",
   "metadata": {},
   "outputs": [],
   "source": [
    "us_df.to_csv('us_market_data.csv', index=False)"
   ]
  },
  {
   "cell_type": "code",
   "execution_count": null,
   "id": "629d0789-031d-456c-99b8-5de4d72872c0",
   "metadata": {},
   "outputs": [],
   "source": []
  }
 ],
 "metadata": {
  "kernelspec": {
   "display_name": "Python 3 (ipykernel)",
   "language": "python",
   "name": "python3"
  },
  "language_info": {
   "codemirror_mode": {
    "name": "ipython",
    "version": 3
   },
   "file_extension": ".py",
   "mimetype": "text/x-python",
   "name": "python",
   "nbconvert_exporter": "python",
   "pygments_lexer": "ipython3",
   "version": "3.9.21"
  }
 },
 "nbformat": 4,
 "nbformat_minor": 5
}
