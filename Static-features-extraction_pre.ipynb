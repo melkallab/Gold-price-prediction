{
 "cells": [
  {
   "cell_type": "code",
   "execution_count": 1,
   "id": "57f45706-013c-4d50-a0d6-9e5555ad5a89",
   "metadata": {},
   "outputs": [
    {
     "name": "stdout",
     "output_type": "stream",
     "text": [
      "Requirement already satisfied: ta in c:\\users\\marry\\anaconda3\\envs\\gold\\lib\\site-packages (0.11.0)\n",
      "Requirement already satisfied: numpy in c:\\users\\marry\\anaconda3\\envs\\gold\\lib\\site-packages (from ta) (1.26.4)\n",
      "Requirement already satisfied: pandas in c:\\users\\marry\\anaconda3\\envs\\gold\\lib\\site-packages (from ta) (2.2.3)\n",
      "Requirement already satisfied: python-dateutil>=2.8.2 in c:\\users\\marry\\anaconda3\\envs\\gold\\lib\\site-packages (from pandas->ta) (2.9.0.post0)\n",
      "Requirement already satisfied: pytz>=2020.1 in c:\\users\\marry\\anaconda3\\envs\\gold\\lib\\site-packages (from pandas->ta) (2024.1)\n",
      "Requirement already satisfied: tzdata>=2022.7 in c:\\users\\marry\\anaconda3\\envs\\gold\\lib\\site-packages (from pandas->ta) (2025.2)\n",
      "Requirement already satisfied: six>=1.5 in c:\\users\\marry\\anaconda3\\envs\\gold\\lib\\site-packages (from python-dateutil>=2.8.2->pandas->ta) (1.17.0)\n",
      "Note: you may need to restart the kernel to use updated packages.\n"
     ]
    }
   ],
   "source": [
    "pip install ta"
   ]
  },
  {
   "cell_type": "code",
   "execution_count": 2,
   "id": "cbdc7030-7d59-4a34-96cd-721736760534",
   "metadata": {},
   "outputs": [],
   "source": [
    "import pandas as pd\n",
    "pre_df = pd.read_csv('pre_market_data.csv')"
   ]
  },
  {
   "cell_type": "code",
   "execution_count": 3,
   "id": "3a433b34-67e7-4b40-923b-10777594c3ea",
   "metadata": {},
   "outputs": [],
   "source": [
    "pre_df['body'] = (pre_df['close'] - pre_df['open']).abs()\n",
    "pre_df['upper_wick'] = pre_df['high'] - pre_df[['open', 'close']].max(axis=1)\n",
    "pre_df['lower_wick'] = pre_df[['open', 'close']].min(axis=1) - pre_df['low']\n",
    "pre_df['candle_range'] = pre_df['high'] - pre_df['low']\n",
    "pre_df['body_to_wick_ratio'] = pre_df['body'] / (pre_df['upper_wick'] + pre_df['lower_wick'] + 1e-6)\n",
    "pre_df['bullish'] = (pre_df['close'] > pre_df['open']).astype(int)"
   ]
  },
  {
   "cell_type": "code",
   "execution_count": 4,
   "id": "3c35c2fc-8777-4d87-83bd-dcd67247d936",
   "metadata": {},
   "outputs": [],
   "source": [
    "grouped = pre_df.groupby('date')"
   ]
  },
  {
   "cell_type": "code",
   "execution_count": 5,
   "id": "9ecc2f63-295f-4dd0-bb80-a0d7e9bb0048",
   "metadata": {},
   "outputs": [
    {
     "name": "stdout",
     "output_type": "stream",
     "text": [
      "         date  first_open  last_close  max_high  min_low  avg_return  \\\n",
      "0  2024-01-08     2022.60     2028.94   2030.46  2018.31    0.000083   \n",
      "1  2024-01-09     2032.76     2034.75   2042.09  2031.06    0.000025   \n",
      "2  2024-01-10     2026.70     2025.54   2040.37  2023.72   -0.000040   \n",
      "3  2024-01-11     2032.94     2029.39   2045.80  2024.76    0.000017   \n",
      "4  2024-01-12     2035.98     2057.63   2062.33  2034.04    0.000122   \n",
      "\n",
      "   volatility_return  volatility_log_return  total_volume  last_momentum_3  \\\n",
      "0           0.000618               0.000618        124663         0.000399   \n",
      "1           0.000461               0.000461        217012         0.000836   \n",
      "2           0.000564               0.000564        212728        -0.000587   \n",
      "3           0.000632               0.000632        289535         0.000794   \n",
      "4           0.000616               0.000616        332701        -0.000204   \n",
      "\n",
      "   avg_true_range  session_return  range  range_ratio  range_ratio_close  \\\n",
      "0        2.067021        0.003135  12.15     0.006007           0.005988   \n",
      "1        1.654336        0.000979  11.03     0.005426           0.005421   \n",
      "2        1.546637       -0.000572  16.65     0.008215           0.008220   \n",
      "3        1.850708       -0.001746  21.04     0.010350           0.010368   \n",
      "4        1.824159        0.010634  28.29     0.013895           0.013749   \n",
      "\n",
      "   up_moves  down_moves  up_move_ratio  \n",
      "0        24          23       0.510638  \n",
      "1        60          53       0.530973  \n",
      "2        54          59       0.477876  \n",
      "3        62          50       0.553571  \n",
      "4        64          48       0.571429  \n"
     ]
    },
    {
     "name": "stderr",
     "output_type": "stream",
     "text": [
      "C:\\Users\\Marry\\AppData\\Local\\Temp\\ipykernel_17092\\3797594877.py:61: DeprecationWarning: DataFrameGroupBy.apply operated on the grouping columns. This behavior is deprecated, and in a future version of pandas the grouping columns will be excluded from the operation. Either pass `include_groups=False` to exclude the groupings or explicitly select the grouping columns after groupby to silence this warning.\n",
      "  price_action_features['up_moves'] = grouped.apply(lambda x: (x['close'] > x['open']).sum())\n",
      "C:\\Users\\Marry\\AppData\\Local\\Temp\\ipykernel_17092\\3797594877.py:62: DeprecationWarning: DataFrameGroupBy.apply operated on the grouping columns. This behavior is deprecated, and in a future version of pandas the grouping columns will be excluded from the operation. Either pass `include_groups=False` to exclude the groupings or explicitly select the grouping columns after groupby to silence this warning.\n",
      "  price_action_features['down_moves'] = grouped.apply(lambda x: (x['close'] < x['open']).sum())\n"
     ]
    }
   ],
   "source": [
    "import numpy as np\n",
    "\n",
    "# Calculate returns\n",
    "pre_df['return'] = pre_df['close'].pct_change()\n",
    "pre_df['log_return'] = np.log(pre_df['close'] / pre_df['close'].shift(1))\n",
    "\n",
    "# Previous close for true range\n",
    "pre_df['prev_close'] = pre_df['close'].shift(1)\n",
    "\n",
    "# True Range: max of (high - low, |high - prev_close|, |low - prev_close|)\n",
    "pre_df['true_range'] = pre_df[['high', 'low', 'prev_close']].apply(\n",
    "    lambda row: max(\n",
    "        row['high'] - row['low'],\n",
    "        abs(row['high'] - row['prev_close']),\n",
    "        abs(row['low'] - row['prev_close'])\n",
    "    ), axis=1\n",
    ")\n",
    "\n",
    "# Momentum: 3-period return\n",
    "pre_df['momentum_3'] = pre_df['close'].pct_change(3)\n",
    "\n",
    "# Group again\n",
    "grouped = pre_df.groupby('date')\n",
    "\n",
    "# Aggregate features\n",
    "price_action_features = grouped.agg({\n",
    "    'open': 'first',\n",
    "    'close': 'last',\n",
    "    'high': 'max',\n",
    "    'low': 'min',\n",
    "    'return': ['mean', 'std'],\n",
    "    'log_return': 'std',\n",
    "    'tick_volume': 'sum',\n",
    "    'momentum_3': 'last',\n",
    "    'true_range': 'mean'\n",
    "})\n",
    "\n",
    "# Flatten multi-index columns\n",
    "price_action_features.columns = [\n",
    "    'first_open', 'last_close', 'max_high', 'min_low',\n",
    "    'avg_return', 'volatility_return',\n",
    "    'volatility_log_return', 'total_volume',\n",
    "    'last_momentum_3', 'avg_true_range'\n",
    "]\n",
    "\n",
    "# Session-level calculations\n",
    "price_action_features['session_return'] = (\n",
    "    price_action_features['last_close'] / price_action_features['first_open'] - 1\n",
    ")\n",
    "price_action_features['range'] = (\n",
    "    price_action_features['max_high'] - price_action_features['min_low']\n",
    ")\n",
    "price_action_features['range_ratio'] = (\n",
    "    price_action_features['range'] / price_action_features['first_open']\n",
    ")\n",
    "price_action_features['range_ratio_close'] = (\n",
    "    price_action_features['range'] / price_action_features['last_close']\n",
    ")\n",
    "\n",
    "# Up/down candle counts\n",
    "price_action_features['up_moves'] = grouped.apply(lambda x: (x['close'] > x['open']).sum())\n",
    "price_action_features['down_moves'] = grouped.apply(lambda x: (x['close'] < x['open']).sum())\n",
    "price_action_features['up_move_ratio'] = (\n",
    "    price_action_features['up_moves'] /\n",
    "    (price_action_features['up_moves'] + price_action_features['down_moves'])\n",
    ")\n",
    "\n",
    "# Reset index if needed\n",
    "price_action_features = price_action_features.reset_index()\n",
    "\n",
    "# Final output\n",
    "print(price_action_features.head())\n",
    "\n",
    "price_action_features.to_csv('price_action_features.csv')\n"
   ]
  },
  {
   "cell_type": "code",
   "execution_count": 20,
   "id": "cbfb89f4-f741-4454-b88d-14a21bc13cb1",
   "metadata": {},
   "outputs": [
    {
     "name": "stderr",
     "output_type": "stream",
     "text": [
      "C:\\Users\\Marry\\AppData\\Local\\Temp\\ipykernel_17092\\1140046903.py:17: FutureWarning: A value is trying to be set on a copy of a DataFrame or Series through chained assignment using an inplace method.\n",
      "The behavior will change in pandas 3.0. This inplace method will never work because the intermediate object on which we are setting values always behaves as a copy.\n",
      "\n",
      "For example, when doing 'df[col].method(value, inplace=True)', try using 'df.method({col: value}, inplace=True)' or df[col] = df[col].method(value) instead, to perform the operation inplace on the original object.\n",
      "\n",
      "\n",
      "  geometry_features['min_body'].fillna(0.0, inplace=True)\n"
     ]
    }
   ],
   "source": [
    "geometry_features = grouped.agg({\n",
    "    'body': ['mean', 'std', 'max', 'min'],\n",
    "    'candle_range': 'mean',\n",
    "    'close': ['std', 'last'],\n",
    "    'bullish': ['sum', lambda x: len(x) - x.sum()],  # bullish + bearish count\n",
    "    'open': 'first'\n",
    "})\n",
    "\n",
    "geometry_features.columns = [\n",
    "    'avg_body', 'std_body', 'max_body', 'min_body',\n",
    "    'avg_candle_range',\n",
    "    'std_close', 'last_close',\n",
    "    'bullish_count', 'bearish_count',\n",
    "    'first_open'\n",
    "]\n",
    "\n",
    "geometry_features['min_body'].fillna(0.0, inplace=True)\n",
    "\n",
    "geometry_features['first_last_change'] = geometry_features['last_close'] - geometry_features['first_open']\n",
    "\n",
    "geometry_features.to_csv('geometry_features.csv')\n"
   ]
  },
  {
   "cell_type": "code",
   "execution_count": 7,
   "id": "14114b3e-1c2b-4801-b459-8cf077bb7cd9",
   "metadata": {},
   "outputs": [],
   "source": [
    "# Basic candle components\n",
    "pre_df['body'] = abs(pre_df['close'] - pre_df['open'])\n",
    "pre_df['upper_wick'] = pre_df['high'] - pre_df[['close', 'open']].max(axis=1)\n",
    "pre_df['lower_wick'] = pre_df[['close', 'open']].min(axis=1) - pre_df['low']\n",
    "pre_df['range'] = pre_df['high'] - pre_df['low']\n",
    "\n",
    "# Avoid division by zero\n",
    "pre_df['range'] = pre_df['range'].replace(0, np.nan)\n",
    "\n",
    "# --- Pattern Detection Functions ---\n",
    "\n",
    "# 1. Doji: Small body, large wicks\n",
    "pre_df['is_doji'] = (pre_df['body'] / pre_df['range'] < 0.1)\n",
    "\n",
    "# 2. Hammer: Small body near top, long lower wick\n",
    "pre_df['is_hammer'] = (\n",
    "    (pre_df['body'] / pre_df['range'] < 0.3) &\n",
    "    (pre_df['lower_wick'] > 2 * pre_df['body']) &\n",
    "    (pre_df['upper_wick'] < pre_df['body'])\n",
    ")\n",
    "\n",
    "# 3. Inverted Hammer: Small body near bottom, long upper wick\n",
    "pre_df['is_inverted_hammer'] = (\n",
    "    (pre_df['body'] / pre_df['range'] < 0.3) &\n",
    "    (pre_df['upper_wick'] > 2 * pre_df['body']) &\n",
    "    (pre_df['lower_wick'] < pre_df['body'])\n",
    ")\n",
    "\n",
    "# 4. Engulfing (Bullish & Bearish) - need previous row\n",
    "pre_df['prev_open'] = pre_df['open'].shift(1)\n",
    "pre_df['prev_close'] = pre_df['close'].shift(1)\n",
    "\n",
    "pre_df['is_bullish_engulfing'] = (\n",
    "    (pre_df['prev_close'] < pre_df['prev_open']) &  # previous candle bearish\n",
    "    (pre_df['close'] > pre_df['open']) &  # current candle bullish\n",
    "    (pre_df['open'] < pre_df['prev_close']) & (pre_df['close'] > pre_df['prev_open'])\n",
    ")\n",
    "\n",
    "pre_df['is_bearish_engulfing'] = (\n",
    "    (pre_df['prev_close'] > pre_df['prev_open']) &  # previous candle bullish\n",
    "    (pre_df['close'] < pre_df['open']) &  # current candle bearish\n",
    "    (pre_df['open'] > pre_df['prev_close']) & (pre_df['close'] < pre_df['prev_open'])\n",
    ")\n",
    "\n",
    "# Shifted values for 3-candle pattern\n",
    "pre_df['c1_open'] = pre_df['open'].shift(2)\n",
    "pre_df['c1_close'] = pre_df['close'].shift(2)\n",
    "pre_df['c2_open'] = pre_df['open'].shift(1)\n",
    "pre_df['c2_close'] = pre_df['close'].shift(1)\n",
    "pre_df['c3_open'] = pre_df['open']\n",
    "pre_df['c3_close'] = pre_df['close']\n",
    "\n",
    "# Morning Star Pattern\n",
    "pre_df['is_morning_star'] = (\n",
    "    # 1st candle: bearish\n",
    "    (pre_df['c1_close'] < pre_df['c1_open']) &\n",
    "    \n",
    "    # 2nd candle: small body (Doji/spinning top)\n",
    "    (abs(pre_df['c2_close'] - pre_df['c2_open']) / (pre_df['high'].shift(1) - pre_df['low'].shift(1) + 1e-8) < 0.3) &\n",
    "    \n",
    "    # 3rd candle: bullish\n",
    "    (pre_df['c3_close'] > pre_df['c3_open']) &\n",
    "    \n",
    "    # 3rd candle closes into or above midpoint of 1st candle\n",
    "    (pre_df['c3_close'] >= (pre_df['c1_open'] + pre_df['c1_close']) / 2)\n",
    ")\n",
    "\n",
    "pattern_cols = ['is_doji', 'is_hammer', 'is_inverted_hammer', 'is_bullish_engulfing', 'is_bearish_engulfing', 'is_morning_star']\n",
    "pattern_features = pre_df.groupby('date')[pattern_cols].sum().add_prefix('count_')\n",
    "\n",
    "pattern_features.to_csv('patterns_features.csv')"
   ]
  },
  {
   "cell_type": "code",
   "execution_count": 8,
   "id": "8901bb5c-a031-4265-9478-257d55ceea06",
   "metadata": {},
   "outputs": [],
   "source": [
    "import ta\n",
    "\n",
    "# RSI (Relative Strength Index)\n",
    "pre_df['rsi_14'] = ta.momentum.RSIIndicator(close=pre_df['close'], window=14).rsi()\n",
    "\n",
    "# EMA (Exponential Moving Average)\n",
    "pre_df['ema_20'] = ta.trend.EMAIndicator(close=pre_df['close'], window=20).ema_indicator()\n",
    "\n",
    "# MACD\n",
    "macd = ta.trend.MACD(close=pre_df['close'])\n",
    "pre_df['macd'] = macd.macd()\n",
    "pre_df['macd_signal'] = macd.macd_signal()\n",
    "pre_df['macd_diff'] = macd.macd_diff()\n",
    "\n",
    "# ATR (Average True Range)\n",
    "atr = ta.volatility.AverageTrueRange(high=pre_df['high'], low=pre_df['low'], close=pre_df['close'], window=14)\n",
    "pre_df['atr_14'] = atr.average_true_range()\n",
    "\n",
    "# Bollinger Bands\n",
    "bb = ta.volatility.BollingerBands(close=pre_df['close'], window=20, window_dev=2)\n",
    "pre_df['bb_upper'] = bb.bollinger_hband()\n",
    "pre_df['bb_lower'] = bb.bollinger_lband()\n",
    "pre_df['bb_mavg'] = bb.bollinger_mavg()"
   ]
  },
  {
   "cell_type": "code",
   "execution_count": 9,
   "id": "77569a52-8622-4040-88b7-2857ae6bf7c7",
   "metadata": {},
   "outputs": [],
   "source": [
    "grouped = pre_df.groupby('date')\n",
    "tech_features = grouped.agg({\n",
    "    'rsi_14': ['mean', 'std'],\n",
    "    'ema_20': ['mean'],\n",
    "    'macd': ['mean'],\n",
    "    'macd_signal': ['mean'],\n",
    "    'macd_diff': ['mean', 'std'],\n",
    "    'atr_14': ['mean'],\n",
    "    'bb_upper': ['mean'],\n",
    "    'bb_lower': ['mean'],\n",
    "    'bb_mavg': ['mean']\n",
    "})\n",
    "tech_features.columns = ['_'.join(col) for col in tech_features.columns]\n",
    "\n",
    "tech_features.to_csv('tech_features.csv')"
   ]
  },
  {
   "cell_type": "code",
   "execution_count": 10,
   "id": "15bcb64d-50bf-471b-b72e-d92d2ed57695",
   "metadata": {},
   "outputs": [
    {
     "name": "stdout",
     "output_type": "stream",
     "text": [
      "Index(['date', 'first_open', 'last_close', 'max_high', 'min_low', 'avg_return',\n",
      "       'volatility_return', 'volatility_log_return', 'total_volume',\n",
      "       'last_momentum_3', 'avg_true_range', 'session_return', 'range',\n",
      "       'range_ratio', 'range_ratio_close', 'up_moves', 'down_moves',\n",
      "       'up_move_ratio'],\n",
      "      dtype='object')\n"
     ]
    }
   ],
   "source": [
    "print(price_action_features.columns)"
   ]
  },
  {
   "cell_type": "code",
   "execution_count": 11,
   "id": "7a63333f-188c-4046-bb3a-fb5c018ee993",
   "metadata": {},
   "outputs": [
    {
     "name": "stdout",
     "output_type": "stream",
     "text": [
      "Index(['avg_body', 'std_body', 'max_body', 'min_body', 'avg_candle_range',\n",
      "       'volatility_close', 'bullish_count', 'bearish_count', 'first_open',\n",
      "       'last_close', 'first_last_change'],\n",
      "      dtype='object')\n"
     ]
    }
   ],
   "source": [
    "print(geometry_features.columns)"
   ]
  },
  {
   "cell_type": "code",
   "execution_count": 12,
   "id": "bf1810f4-84f2-4338-b404-69b211de19b6",
   "metadata": {},
   "outputs": [
    {
     "name": "stdout",
     "output_type": "stream",
     "text": [
      "Index(['rsi_14_mean', 'rsi_14_std', 'ema_20_mean', 'macd_mean',\n",
      "       'macd_signal_mean', 'macd_diff_mean', 'macd_diff_std', 'atr_14_mean',\n",
      "       'bb_upper_mean', 'bb_lower_mean', 'bb_mavg_mean'],\n",
      "      dtype='object')\n"
     ]
    }
   ],
   "source": [
    "print(tech_features.columns)"
   ]
  },
  {
   "cell_type": "code",
   "execution_count": 13,
   "id": "695c73ed-40bb-40a1-9e0e-778aa33ab00d",
   "metadata": {},
   "outputs": [
    {
     "name": "stdout",
     "output_type": "stream",
     "text": [
      "Index(['count_is_doji', 'count_is_hammer', 'count_is_inverted_hammer',\n",
      "       'count_is_bullish_engulfing', 'count_is_bearish_engulfing',\n",
      "       'count_is_morning_star'],\n",
      "      dtype='object')\n"
     ]
    }
   ],
   "source": [
    "print(pattern_features.columns)"
   ]
  },
  {
   "cell_type": "code",
   "execution_count": 19,
   "id": "7eac09da-4b21-425e-9686-e3dd773e710f",
   "metadata": {},
   "outputs": [
    {
     "name": "stdout",
     "output_type": "stream",
     "text": [
      "<bound method NDFrame.head of             avg_body  std_body  max_body  min_body  avg_candle_range  \\\n",
      "date                                                                   \n",
      "2024-01-08  1.020000  0.742308      2.89      0.03          2.066809   \n",
      "2024-01-09  0.708142  0.569034      2.97      0.02          1.630088   \n",
      "2024-01-10  0.626018  0.587435      3.26      0.01          1.478584   \n",
      "2024-01-11  0.702832  0.858658      5.13      0.00          1.793451   \n",
      "2024-01-12  0.789381  0.765020      3.69      0.00          1.768407   \n",
      "...              ...       ...       ...       ...               ...   \n",
      "2025-05-26  1.137232  0.926524      5.13      0.01          2.346161   \n",
      "2025-05-27  1.775000  1.963766     12.61      0.03          3.649636   \n",
      "2025-05-28  1.423717  1.117491      6.11      0.02          2.819027   \n",
      "2025-05-29  1.572478  1.300388      5.80      0.01          2.945310   \n",
      "2025-05-30  1.508761  1.615036     13.91      0.00          3.126372   \n",
      "\n",
      "            volatility_close  bullish_count  bearish_count  first_open  \\\n",
      "date                                                                     \n",
      "2024-01-08          2.776121        2028.94             24          23   \n",
      "2024-01-09          1.737658        2034.75             60          53   \n",
      "2024-01-10          3.645729        2025.54             54          59   \n",
      "2024-01-11          2.135530        2029.39             62          51   \n",
      "2024-01-12          7.654761        2057.63             64          49   \n",
      "...                      ...            ...            ...         ...   \n",
      "2025-05-26          6.969145        3335.30             56          56   \n",
      "2025-05-27         15.499825        3295.90             46          64   \n",
      "2025-05-28          8.149601        3308.23             57          56   \n",
      "2025-05-29         14.362610        3317.78             58          55   \n",
      "2025-05-30          3.488646        3298.88             55          58   \n",
      "\n",
      "            last_close  first_last_change  \n",
      "date                                       \n",
      "2024-01-08     2022.60            1999.60  \n",
      "2024-01-09     2032.76            1979.76  \n",
      "2024-01-10     2026.70            1967.70  \n",
      "2024-01-11     2032.94            1981.94  \n",
      "2024-01-12     2035.98            1986.98  \n",
      "...                ...                ...  \n",
      "2025-05-26     3347.59            3291.59  \n",
      "2025-05-27     3341.12            3277.12  \n",
      "2025-05-28     3297.74            3241.74  \n",
      "2025-05-29     3274.58            3219.58  \n",
      "2025-05-30     3294.50            3236.50  \n",
      "\n",
      "[361 rows x 11 columns]>\n"
     ]
    }
   ],
   "source": [
    "print(geometry_features.head)"
   ]
  },
  {
   "cell_type": "code",
   "execution_count": null,
   "id": "ff5dde06-3fff-40ad-92a0-583491802317",
   "metadata": {},
   "outputs": [],
   "source": []
  }
 ],
 "metadata": {
  "kernelspec": {
   "display_name": "Python 3 (ipykernel)",
   "language": "python",
   "name": "python3"
  },
  "language_info": {
   "codemirror_mode": {
    "name": "ipython",
    "version": 3
   },
   "file_extension": ".py",
   "mimetype": "text/x-python",
   "name": "python",
   "nbconvert_exporter": "python",
   "pygments_lexer": "ipython3",
   "version": "3.9.21"
  }
 },
 "nbformat": 4,
 "nbformat_minor": 5
}
